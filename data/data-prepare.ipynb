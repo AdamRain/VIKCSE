{
 "cells": [
  {
   "cell_type": "code",
   "execution_count": 1,
   "id": "5c356278",
   "metadata": {},
   "outputs": [],
   "source": [
    "import pandas as pd\n",
    "from datasets import Dataset\n",
    "from transformers import BertTokenizer, RobertaTokenizer"
   ]
  },
  {
   "cell_type": "code",
   "execution_count": 2,
   "id": "917cc423",
   "metadata": {},
   "outputs": [
    {
     "data": {
      "application/vnd.jupyter.widget-view+json": {
       "model_id": "c127595e37b74615a1b1647a788ce64e",
       "version_major": 2,
       "version_minor": 0
      },
      "text/plain": [
       "Downloading (…)olve/main/vocab.json:   0%|          | 0.00/899k [00:00<?, ?B/s]"
      ]
     },
     "metadata": {},
     "output_type": "display_data"
    },
    {
     "name": "stderr",
     "output_type": "stream",
     "text": [
      "d:\\Conda_data\\envs\\py39\\lib\\site-packages\\huggingface_hub\\file_download.py:133: UserWarning: `huggingface_hub` cache-system uses symlinks by default to efficiently store duplicated files but your machine does not support them in G:\\clip_play\\cache. Caching files will still work but in a degraded version that might require more space on your disk. This warning can be disabled by setting the `HF_HUB_DISABLE_SYMLINKS_WARNING` environment variable. For more details, see https://huggingface.co/docs/huggingface_hub/how-to-cache#limitations.\n",
      "To support symlinks on Windows, you either need to activate Developer Mode or to run Python as an administrator. In order to see activate developer mode, see this article: https://docs.microsoft.com/en-us/windows/apps/get-started/enable-your-device-for-development\n",
      "  warnings.warn(message)\n"
     ]
    },
    {
     "data": {
      "application/vnd.jupyter.widget-view+json": {
       "model_id": "02d1dc6ec2144948984dfd1693b51f6a",
       "version_major": 2,
       "version_minor": 0
      },
      "text/plain": [
       "Downloading (…)olve/main/merges.txt:   0%|          | 0.00/456k [00:00<?, ?B/s]"
      ]
     },
     "metadata": {},
     "output_type": "display_data"
    },
    {
     "data": {
      "application/vnd.jupyter.widget-view+json": {
       "model_id": "19088ff205904fc2adfb23d0a6881527",
       "version_major": 2,
       "version_minor": 0
      },
      "text/plain": [
       "Downloading (…)lve/main/config.json:   0%|          | 0.00/482 [00:00<?, ?B/s]"
      ]
     },
     "metadata": {},
     "output_type": "display_data"
    }
   ],
   "source": [
    "# tokenizer = BertTokenizer.from_pretrained('bert-large-uncased', cache_dir='../cache')\n",
    "tokenizer = RobertaTokenizer.from_pretrained('roberta-large', cache_dir='../cache')"
   ]
  },
  {
   "cell_type": "code",
   "execution_count": 3,
   "id": "58f1447b",
   "metadata": {},
   "outputs": [
    {
     "data": {
      "text/plain": [
       "Dataset({\n",
       "    features: ['text'],\n",
       "    num_rows: 995447\n",
       "})"
      ]
     },
     "execution_count": 3,
     "metadata": {},
     "output_type": "execute_result"
    }
   ],
   "source": [
    "# use pandas to read simCSE-wiki.txt\n",
    "# download from https://huggingface.co/datasets/princeton-nlp/datasets-for-simcse/resolve/main/wiki1m_for_simcse.txt\n",
    "wiki_text_file = 'wiki1m_for_simcse.txt'\n",
    "wiki = pd.read_csv(wiki_text_file, sep = '\\t', header = None)\n",
    "wiki.columns = ['text']\n",
    "# use Dataset.from_pandas to convert to dataset\n",
    "wiki_dataset = Dataset.from_pandas(wiki, split= \"train\")\n",
    "wiki_dataset"
   ]
  },
  {
   "cell_type": "code",
   "execution_count": 4,
   "id": "64dcbe23",
   "metadata": {},
   "outputs": [],
   "source": [
    "def prepare_features(examples):\n",
    "    \n",
    "    total = len(examples['text'])\n",
    "    # total = batch_size\n",
    "    \n",
    "    # Avoid \"None\" fields \n",
    "    for idx in range(total):\n",
    "        if examples['text'][idx] is None:\n",
    "            examples['text'][idx] = \" \"\n",
    "\n",
    "    # add prompt\n",
    "    sentences = [\"This sentence : \\\"[ \"+s+\" ]\\\" means [MASK] !\" for s in examples['text']]   # BERT\n",
    "    # sentences = [\"This sentence : \\\"[\"+s+\"]\\\" means <mask> !\" for s in examples['text']]     # Roberta\n",
    "\n",
    "    # set max_length here:\n",
    "    sent_features = tokenizer(sentences, max_length=64, truncation=True, padding=\"max_length\")\n",
    "\n",
    "    return sent_features"
   ]
  },
  {
   "cell_type": "code",
   "execution_count": 5,
   "id": "c83f5fe5",
   "metadata": {},
   "outputs": [
    {
     "data": {
      "application/vnd.jupyter.widget-view+json": {
       "model_id": "99cf2a23049b42f783af50373784e943",
       "version_major": 2,
       "version_minor": 0
      },
      "text/plain": [
       "Map:   0%|          | 0/995447 [00:00<?, ? examples/s]"
      ]
     },
     "metadata": {},
     "output_type": "display_data"
    }
   ],
   "source": [
    "train_dataset = wiki_dataset.map(prepare_features, batched=True, remove_columns=['text'], batch_size=5000)"
   ]
  },
  {
   "cell_type": "code",
   "execution_count": 6,
   "id": "4040c2f4",
   "metadata": {},
   "outputs": [],
   "source": [
    "# train_dataset.set_format(type='torch', columns=['input_ids', 'token_type_ids', 'attention_mask']) # BERT\n",
    "train_dataset.set_format(type='torch', columns=['input_ids', 'attention_mask']) # Roberta"
   ]
  },
  {
   "cell_type": "code",
   "execution_count": 7,
   "id": "48732e5f",
   "metadata": {},
   "outputs": [
    {
     "data": {
      "text/plain": [
       "Dataset({\n",
       "    features: ['input_ids', 'attention_mask'],\n",
       "    num_rows: 995447\n",
       "})"
      ]
     },
     "execution_count": 7,
     "metadata": {},
     "output_type": "execute_result"
    }
   ],
   "source": [
    "train_dataset"
   ]
  },
  {
   "cell_type": "code",
   "execution_count": 8,
   "id": "8b796d79",
   "metadata": {},
   "outputs": [
    {
     "data": {
      "application/vnd.jupyter.widget-view+json": {
       "model_id": "251b1ced018145d180062657c485d948",
       "version_major": 2,
       "version_minor": 0
      },
      "text/plain": [
       "Saving the dataset (0/1 shards):   0%|          | 0/995447 [00:00<?, ? examples/s]"
      ]
     },
     "metadata": {},
     "output_type": "display_data"
    }
   ],
   "source": [
    "# save to disk for reuse\n",
    "train_dataset.save_to_disk(\"wiki_for_robertalarge_77_with_mask\")"
   ]
  },
  {
   "cell_type": "markdown",
   "id": "bf2e462d",
   "metadata": {},
   "source": [
    "***"
   ]
  }
 ],
 "metadata": {
  "kernelspec": {
   "display_name": "Python 3",
   "language": "python",
   "name": "python3"
  },
  "language_info": {
   "codemirror_mode": {
    "name": "ipython",
    "version": 3
   },
   "file_extension": ".py",
   "mimetype": "text/x-python",
   "name": "python",
   "nbconvert_exporter": "python",
   "pygments_lexer": "ipython3",
   "version": "3.9.7"
  }
 },
 "nbformat": 4,
 "nbformat_minor": 5
}
